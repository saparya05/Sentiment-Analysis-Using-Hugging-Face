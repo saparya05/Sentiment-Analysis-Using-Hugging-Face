{
 "cells": [
  {
   "cell_type": "code",
   "execution_count": 1,
   "id": "1a5e07bd-f952-47ac-a8c1-2d2b2b40f75b",
   "metadata": {},
   "outputs": [],
   "source": [
    "import warnings\n",
    "warnings.filterwarnings(\"ignore\")\n",
    "import numpy as np\n",
    "import pandas as pd\n",
    "import matplotlib.pyplot as plt\n",
    "import seaborn as sns\n",
    "sns.set()\n",
    "from sklearn.model_selection import train_test_split\n",
    "from sklearn.metrics import f1_score, confusion_matrix, roc_auc_score\n",
    "from transformers import pipeline\n",
    "import torch"
   ]
  },
  {
   "cell_type": "code",
   "execution_count": 2,
   "id": "21d2d672-feb7-4a38-b6f8-7163b50092a6",
   "metadata": {},
   "outputs": [
    {
     "name": "stderr",
     "output_type": "stream",
     "text": [
      "No model was supplied, defaulted to distilbert/distilbert-base-uncased-finetuned-sst-2-english and revision 714eb0f (https://huggingface.co/distilbert/distilbert-base-uncased-finetuned-sst-2-english).\n",
      "Using a pipeline without specifying a model name and revision in production is not recommended.\n",
      "Device set to use cpu\n"
     ]
    },
    {
     "data": {
      "text/plain": [
       "transformers.pipelines.text_classification.TextClassificationPipeline"
      ]
     },
     "execution_count": 2,
     "metadata": {},
     "output_type": "execute_result"
    }
   ],
   "source": [
    "classifier = pipeline('sentiment-analysis')\n",
    "type(classifier)"
   ]
  },
  {
   "cell_type": "code",
   "execution_count": 3,
   "id": "4db4084e-4ab5-4f0c-9fc7-3e92f7c71d8a",
   "metadata": {},
   "outputs": [
    {
     "data": {
      "text/plain": [
       "[{'label': 'POSITIVE', 'score': 0.9998798370361328}]"
      ]
     },
     "execution_count": 3,
     "metadata": {},
     "output_type": "execute_result"
    }
   ],
   "source": [
    "classifier(\"This is a great movie\")"
   ]
  },
  {
   "cell_type": "code",
   "execution_count": 4,
   "id": "972181d8-0e05-45ec-92a4-e51e750a116e",
   "metadata": {},
   "outputs": [
    {
     "data": {
      "text/plain": [
       "[{'label': 'NEGATIVE', 'score': 0.9997289776802063},\n",
       " {'label': 'POSITIVE', 'score': 0.9994913339614868}]"
      ]
     },
     "execution_count": 4,
     "metadata": {},
     "output_type": "execute_result"
    }
   ],
   "source": [
    "classifier([\"This is the worst movie\", \"I usually loves movies!\"])"
   ]
  },
  {
   "cell_type": "code",
   "execution_count": 5,
   "id": "20b75f94-5cb3-49b5-b4ca-ad978deac767",
   "metadata": {},
   "outputs": [
    {
     "data": {
      "text/html": [
       "<div>\n",
       "<style scoped>\n",
       "    .dataframe tbody tr th:only-of-type {\n",
       "        vertical-align: middle;\n",
       "    }\n",
       "\n",
       "    .dataframe tbody tr th {\n",
       "        vertical-align: top;\n",
       "    }\n",
       "\n",
       "    .dataframe thead th {\n",
       "        text-align: right;\n",
       "    }\n",
       "</style>\n",
       "<table border=\"1\" class=\"dataframe\">\n",
       "  <thead>\n",
       "    <tr style=\"text-align: right;\">\n",
       "      <th></th>\n",
       "      <th>Unnamed: 0</th>\n",
       "      <th>Datetime</th>\n",
       "      <th>Tweet Id</th>\n",
       "      <th>Text</th>\n",
       "      <th>Username</th>\n",
       "      <th>sentiment</th>\n",
       "      <th>sentiment_score</th>\n",
       "      <th>emotion</th>\n",
       "      <th>emotion_score</th>\n",
       "    </tr>\n",
       "  </thead>\n",
       "  <tbody>\n",
       "    <tr>\n",
       "      <th>0</th>\n",
       "      <td>0</td>\n",
       "      <td>2022-09-30 23:29:15+00:00</td>\n",
       "      <td>1575991191170340096</td>\n",
       "      <td>@Logitech @apple @Google @Microsoft @Dell @Len...</td>\n",
       "      <td>ManjuSreedaran</td>\n",
       "      <td>neutral</td>\n",
       "      <td>0.853283</td>\n",
       "      <td>anticipation</td>\n",
       "      <td>0.587121</td>\n",
       "    </tr>\n",
       "    <tr>\n",
       "      <th>1</th>\n",
       "      <td>1</td>\n",
       "      <td>2022-09-30 21:46:35+00:00</td>\n",
       "      <td>1575965354425129984</td>\n",
       "      <td>@MK_habit_addict @official_stier @MortalKombat...</td>\n",
       "      <td>MiKeMcDnet</td>\n",
       "      <td>neutral</td>\n",
       "      <td>0.519470</td>\n",
       "      <td>joy</td>\n",
       "      <td>0.886913</td>\n",
       "    </tr>\n",
       "    <tr>\n",
       "      <th>2</th>\n",
       "      <td>2</td>\n",
       "      <td>2022-09-30 21:18:02+00:00</td>\n",
       "      <td>1575958171423749888</td>\n",
       "      <td>AsÂ @CRNÂ celebrates its 40th anniversary,Â Bo...</td>\n",
       "      <td>jfollett</td>\n",
       "      <td>positive</td>\n",
       "      <td>0.763791</td>\n",
       "      <td>joy</td>\n",
       "      <td>0.960347</td>\n",
       "    </tr>\n",
       "    <tr>\n",
       "      <th>3</th>\n",
       "      <td>3</td>\n",
       "      <td>2022-09-30 20:05:24+00:00</td>\n",
       "      <td>1575939891485029888</td>\n",
       "      <td>@dell your customer service is horrible especi...</td>\n",
       "      <td>daveccarr</td>\n",
       "      <td>negative</td>\n",
       "      <td>0.954023</td>\n",
       "      <td>anger</td>\n",
       "      <td>0.983203</td>\n",
       "    </tr>\n",
       "    <tr>\n",
       "      <th>4</th>\n",
       "      <td>4</td>\n",
       "      <td>2022-09-30 20:03:17+00:00</td>\n",
       "      <td>1575939359160750080</td>\n",
       "      <td>@zacokalo @Dell @DellCares @Dell give the man ...</td>\n",
       "      <td>heycamella</td>\n",
       "      <td>neutral</td>\n",
       "      <td>0.529170</td>\n",
       "      <td>anger</td>\n",
       "      <td>0.776124</td>\n",
       "    </tr>\n",
       "  </tbody>\n",
       "</table>\n",
       "</div>"
      ],
      "text/plain": [
       "   Unnamed: 0                   Datetime             Tweet Id  \\\n",
       "0           0  2022-09-30 23:29:15+00:00  1575991191170340096   \n",
       "1           1  2022-09-30 21:46:35+00:00  1575965354425129984   \n",
       "2           2  2022-09-30 21:18:02+00:00  1575958171423749888   \n",
       "3           3  2022-09-30 20:05:24+00:00  1575939891485029888   \n",
       "4           4  2022-09-30 20:03:17+00:00  1575939359160750080   \n",
       "\n",
       "                                                Text        Username  \\\n",
       "0  @Logitech @apple @Google @Microsoft @Dell @Len...  ManjuSreedaran   \n",
       "1  @MK_habit_addict @official_stier @MortalKombat...      MiKeMcDnet   \n",
       "2  AsÂ @CRNÂ celebrates its 40th anniversary,Â Bo...        jfollett   \n",
       "3  @dell your customer service is horrible especi...       daveccarr   \n",
       "4  @zacokalo @Dell @DellCares @Dell give the man ...      heycamella   \n",
       "\n",
       "  sentiment  sentiment_score       emotion  emotion_score  \n",
       "0   neutral         0.853283  anticipation       0.587121  \n",
       "1   neutral         0.519470           joy       0.886913  \n",
       "2  positive         0.763791           joy       0.960347  \n",
       "3  negative         0.954023         anger       0.983203  \n",
       "4   neutral         0.529170         anger       0.776124  "
      ]
     },
     "execution_count": 5,
     "metadata": {},
     "output_type": "execute_result"
    }
   ],
   "source": [
    "tweets = pd.read_excel(\"sentiment and emotion tweets dataset.xlsx\")\n",
    "tweets.head(5)"
   ]
  },
  {
   "cell_type": "code",
   "execution_count": 6,
   "id": "67a7894d-80a6-43d9-9fd1-82f97c3c3fe1",
   "metadata": {},
   "outputs": [
    {
     "data": {
      "text/html": [
       "<div>\n",
       "<style scoped>\n",
       "    .dataframe tbody tr th:only-of-type {\n",
       "        vertical-align: middle;\n",
       "    }\n",
       "\n",
       "    .dataframe tbody tr th {\n",
       "        vertical-align: top;\n",
       "    }\n",
       "\n",
       "    .dataframe thead th {\n",
       "        text-align: right;\n",
       "    }\n",
       "</style>\n",
       "<table border=\"1\" class=\"dataframe\">\n",
       "  <thead>\n",
       "    <tr style=\"text-align: right;\">\n",
       "      <th></th>\n",
       "      <th>sentiment</th>\n",
       "      <th>emotion</th>\n",
       "      <th>Text</th>\n",
       "    </tr>\n",
       "  </thead>\n",
       "  <tbody>\n",
       "    <tr>\n",
       "      <th>0</th>\n",
       "      <td>neutral</td>\n",
       "      <td>anticipation</td>\n",
       "      <td>@Logitech @apple @Google @Microsoft @Dell @Len...</td>\n",
       "    </tr>\n",
       "    <tr>\n",
       "      <th>1</th>\n",
       "      <td>neutral</td>\n",
       "      <td>joy</td>\n",
       "      <td>@MK_habit_addict @official_stier @MortalKombat...</td>\n",
       "    </tr>\n",
       "    <tr>\n",
       "      <th>2</th>\n",
       "      <td>positive</td>\n",
       "      <td>joy</td>\n",
       "      <td>AsÂ @CRNÂ celebrates its 40th anniversary,Â Bo...</td>\n",
       "    </tr>\n",
       "    <tr>\n",
       "      <th>3</th>\n",
       "      <td>negative</td>\n",
       "      <td>anger</td>\n",
       "      <td>@dell your customer service is horrible especi...</td>\n",
       "    </tr>\n",
       "    <tr>\n",
       "      <th>4</th>\n",
       "      <td>neutral</td>\n",
       "      <td>anger</td>\n",
       "      <td>@zacokalo @Dell @DellCares @Dell give the man ...</td>\n",
       "    </tr>\n",
       "  </tbody>\n",
       "</table>\n",
       "</div>"
      ],
      "text/plain": [
       "  sentiment       emotion                                               Text\n",
       "0   neutral  anticipation  @Logitech @apple @Google @Microsoft @Dell @Len...\n",
       "1   neutral           joy  @MK_habit_addict @official_stier @MortalKombat...\n",
       "2  positive           joy  AsÂ @CRNÂ celebrates its 40th anniversary,Â Bo...\n",
       "3  negative         anger  @dell your customer service is horrible especi...\n",
       "4   neutral         anger  @zacokalo @Dell @DellCares @Dell give the man ..."
      ]
     },
     "execution_count": 6,
     "metadata": {},
     "output_type": "execute_result"
    }
   ],
   "source": [
    "df = tweets[[\"sentiment\", \"emotion\", \"Text\"]]\n",
    "df.head(5)"
   ]
  },
  {
   "cell_type": "code",
   "execution_count": 7,
   "id": "0a117bf8-79cc-4fe0-af1b-1f8196403044",
   "metadata": {
    "scrolled": true
   },
   "outputs": [
    {
     "data": {
      "image/png": "[encoded data removed]",
      "text/plain": [
       "<Figure size 640x480 with 1 Axes>"
      ]
     },
     "metadata": {},
     "output_type": "display_data"
    }
   ],
   "source": [
    "sns.countplot(df, x='sentiment', palette = \"viridis\");\n",
    "plt.xlabel(\"Sentiment\")\n",
    "plt.ylabel(\"count\")\n",
    "plt.show()"
   ]
  },
  {
   "cell_type": "code",
   "execution_count": 8,
   "id": "f89596de-6b5e-4fc0-bbfd-7e6ea566704e",
   "metadata": {},
   "outputs": [],
   "source": [
    "df = df[df['sentiment'] != 'neutral']"
   ]
  },
  {
   "cell_type": "code",
   "execution_count": 9,
   "id": "d7cc5686-8568-4647-b8af-06a25d1ff02c",
   "metadata": {},
   "outputs": [],
   "source": [
    "df['target'] = df['sentiment'].map({'positive': 1, 'negative':0})"
   ]
  },
  {
   "cell_type": "code",
   "execution_count": 10,
   "id": "d46bc2bd-855d-4334-bb81-325dcfae6195",
   "metadata": {},
   "outputs": [
    {
     "name": "stdout",
     "output_type": "stream",
     "text": [
      "NaNs in target: 0\n"
     ]
    }
   ],
   "source": [
    "print(\"NaNs in target:\", df['target'].isna().sum())"
   ]
  },
  {
   "cell_type": "code",
   "execution_count": 11,
   "id": "8adbe11d-6b56-42d8-8d72-70509392ce57",
   "metadata": {},
   "outputs": [],
   "source": [
    "df_clean = df.dropna(subset=['target'])"
   ]
  },
  {
   "cell_type": "code",
   "execution_count": 12,
   "id": "c2ba4502-3291-4b67-8289-6ede58805e0e",
   "metadata": {},
   "outputs": [
    {
     "name": "stdout",
     "output_type": "stream",
     "text": [
      "Number of Rows: 7242\n"
     ]
    }
   ],
   "source": [
    "print('Number of Rows:', df.shape[0])"
   ]
  },
  {
   "cell_type": "code",
   "execution_count": 13,
   "id": "545fd5df-6249-4897-a83b-b151a0cf0a89",
   "metadata": {},
   "outputs": [
    {
     "data": {
      "text/plain": [
       "[{'label': 'POSITIVE', 'score': 0.9386908411979675},\n",
       " {'label': 'NEGATIVE', 'score': 0.9987937211990356},\n",
       " {'label': 'NEGATIVE', 'score': 0.999596893787384},\n",
       " {'label': 'POSITIVE', 'score': 0.566603422164917},\n",
       " {'label': 'NEGATIVE', 'score': 0.5761304497718811}]"
      ]
     },
     "execution_count": 13,
     "metadata": {},
     "output_type": "execute_result"
    }
   ],
   "source": [
    "texts = df_clean['Text'].tolist()\n",
    "predictions = classifier(texts)\n",
    "predictions [:5]"
   ]
  },
  {
   "cell_type": "code",
   "execution_count": 14,
   "id": "0444b0c0-30a8-4775-84a9-275c0d732a37",
   "metadata": {},
   "outputs": [],
   "source": [
    "probs = [pred['score'] if pred['label'].startswith('P') else 1 - pred['score'] for pred in predictions]"
   ]
  },
  {
   "cell_type": "code",
   "execution_count": 15,
   "id": "618fddca-3a19-45f6-998f-9a7c32e46938",
   "metadata": {},
   "outputs": [],
   "source": [
    "preds = np.array([1 if pred['label'].startswith('P') else 0 for pred in predictions])"
   ]
  },
  {
   "cell_type": "code",
   "execution_count": 16,
   "id": "5dcd4fcf-8c1f-48f2-b7fe-4eb8bb6b8100",
   "metadata": {},
   "outputs": [
    {
     "name": "stdout",
     "output_type": "stream",
     "text": [
      "True\n"
     ]
    }
   ],
   "source": [
    "print(len(df_clean['target']) == len(preds))\n"
   ]
  },
  {
   "cell_type": "code",
   "execution_count": 17,
   "id": "dd60ecf6-0d8b-49b0-ab66-d7bc7f5f8af7",
   "metadata": {},
   "outputs": [
    {
     "name": "stdout",
     "output_type": "stream",
     "text": [
      "NaNs in target: 0\n"
     ]
    }
   ],
   "source": [
    "print(\"NaNs in target:\", df_clean['target'].isna().sum())\n"
   ]
  },
  {
   "cell_type": "code",
   "execution_count": 18,
   "id": "26bd9a94-014b-4a9f-8707-8b85469519bc",
   "metadata": {},
   "outputs": [
    {
     "name": "stdout",
     "output_type": "stream",
     "text": [
      "Accuracy: 83.54 %\n"
     ]
    }
   ],
   "source": [
    "print(f\"Accuracy: {round(np.mean(df_clean['target'] ==preds) *100, 2)} %\")"
   ]
  },
  {
   "cell_type": "code",
   "execution_count": 19,
   "id": "e8e006d0-e66a-4dfc-bb5b-a60168ebdbc0",
   "metadata": {},
   "outputs": [],
   "source": [
    "cm = confusion_matrix(df_clean['target'], preds, normalize = 'true')"
   ]
  },
  {
   "cell_type": "code",
   "execution_count": 20,
   "id": "a829345e-4c07-4329-b585-108b8598505e",
   "metadata": {},
   "outputs": [],
   "source": [
    "def plot_confusion_matrix(confusion_matrix, labels):\n",
    "    plt.figure(figsize=(8,6))\n",
    "    sns.set(font_scale = 2.4)\n",
    "\n",
    "    sns.heatmap(confusion_matrix, annot=True, fmt = 'g', cmap=\"Blues\", xticklabels = labels, yticklabels = labels)\n",
    "\n",
    "    plt.title(\"Confusion Matrix\")\n",
    "    plt.xlabel(\"Predicted\")\n",
    "    plt.ylabel(\"Actual\")\n",
    "    plt.show()\n",
    "    "
   ]
  },
  {
   "cell_type": "code",
   "execution_count": 21,
   "id": "7fff3883-a5e8-45f0-b443-ae08fe6bea4e",
   "metadata": {},
   "outputs": [
    {
     "data": {
      "image/png": "[encoded data removed]",
      "text/plain": [
       "<Figure size 800x600 with 2 Axes>"
      ]
     },
     "metadata": {},
     "output_type": "display_data"
    }
   ],
   "source": [
    "plot_confusion_matrix(cm, [\"Negative\",\"Positive\"])"
   ]
  },
  {
   "cell_type": "code",
   "execution_count": 22,
   "id": "57413940-ecc5-409b-83f7-7bb75bb0907d",
   "metadata": {},
   "outputs": [
    {
     "name": "stdout",
     "output_type": "stream",
     "text": [
      "roc auc score: 0.9484265252210189\n"
     ]
    }
   ],
   "source": [
    "print(f\"roc auc score: {roc_auc_score(df_clean['target'], probs)}\")"
   ]
  },
  {
   "cell_type": "code",
   "execution_count": null,
   "id": "7f883db7-c97d-4aab-83a9-f156cbcf2866",
   "metadata": {},
   "outputs": [],
   "source": []
  }
 ],
 "metadata": {
  "kernelspec": {
   "display_name": "Python 3 (ipykernel)",
   "language": "python",
   "name": "python3"
  },
  "language_info": {
   "codemirror_mode": {
    "name": "ipython",
    "version": 3
   },
   "file_extension": ".py",
   "mimetype": "text/x-python",
   "name": "python",
   "nbconvert_exporter": "python",
   "pygments_lexer": "ipython3",
   "version": "3.12.2"
  }
 },
 "nbformat": 4,
 "nbformat_minor": 5
}
